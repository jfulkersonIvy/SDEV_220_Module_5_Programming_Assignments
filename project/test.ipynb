{
 "cells": [
  {
   "cell_type": "code",
   "execution_count": 6,
   "id": "59e613c1",
   "metadata": {},
   "outputs": [],
   "source": [
    "# Jonathan Fulkerson\n",
    "# SDEV 220\n",
    "# Module 5 Programming Assignment\n",
    "# 7.30.22"
   ]
  },
  {
   "cell_type": "code",
   "execution_count": 7,
   "id": "55cac470",
   "metadata": {},
   "outputs": [],
   "source": [
    "import unittest\n",
    "from fractions import Fraction"
   ]
  },
  {
   "cell_type": "code",
   "execution_count": 8,
   "id": "bd62c076",
   "metadata": {},
   "outputs": [],
   "source": [
    "from my_sum import sum"
   ]
  },
  {
   "cell_type": "code",
   "execution_count": 9,
   "id": "797cd070",
   "metadata": {},
   "outputs": [],
   "source": [
    "class TestSum(unittest.TestCase):\n",
    "    def test_list_int(self):\n",
    "        \"\"\"\n",
    "        Test that it can sum a list of integers\n",
    "        \"\"\"\n",
    "        data = [1, 2, 3]\n",
    "        result = sum(data)\n",
    "        self.assertEqual(result, 6)\n",
    "\n",
    "    def test_list_fraction(self):\n",
    "        \"\"\"\n",
    "        Test that it can sum a list of fractions\n",
    "        \"\"\"\n",
    "        data = [Fraction(1, 4), Fraction(1, 4), Fraction(2, 5)]\n",
    "        result = sum(data)\n",
    "        self.assertEqual(result, 1)"
   ]
  },
  {
   "cell_type": "code",
   "execution_count": 10,
   "id": "2b0f31fa",
   "metadata": {},
   "outputs": [
    {
     "name": "stderr",
     "output_type": "stream",
     "text": [
      "F.\n",
      "======================================================================\n",
      "FAIL: test_list_fraction (__main__.TestSum)\n",
      "Test that it can sum a list of fractions\n",
      "----------------------------------------------------------------------\n",
      "Traceback (most recent call last):\n",
      "  File \"C:\\Users\\jfulk\\AppData\\Local\\Temp\\ipykernel_14768\\1789715797.py\", line 16, in test_list_fraction\n",
      "    self.assertEqual(result, 1)\n",
      "AssertionError: Fraction(9, 10) != 1\n",
      "\n",
      "----------------------------------------------------------------------\n",
      "Ran 2 tests in 0.001s\n",
      "\n",
      "FAILED (failures=1)\n"
     ]
    }
   ],
   "source": [
    "if __name__ == '__main__':\n",
    "    unittest.main(argv=['first-arg-is-ignored'], exit=False)"
   ]
  },
  {
   "cell_type": "markdown",
   "id": "50c47786",
   "metadata": {},
   "source": [
    "This test fails because 9/10 is not equal to 1.\n",
    "Even though the first test passed, the second did not so the \"test class\" as a whole failed.\n",
    "Jupyter encounters a kernel error with the original if __name__ == __main__ so I had to add additional args"
   ]
  }
 ],
 "metadata": {
  "kernelspec": {
   "display_name": "Python 3 (ipykernel)",
   "language": "python",
   "name": "python3"
  },
  "language_info": {
   "codemirror_mode": {
    "name": "ipython",
    "version": 3
   },
   "file_extension": ".py",
   "mimetype": "text/x-python",
   "name": "python",
   "nbconvert_exporter": "python",
   "pygments_lexer": "ipython3",
   "version": "3.9.12"
  }
 },
 "nbformat": 4,
 "nbformat_minor": 5
}
